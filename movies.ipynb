{
 "cells": [
  {
   "cell_type": "code",
   "execution_count": null,
   "id": "ed3a802a-a1bc-4a5d-9059-0c9c8ba638f3",
   "metadata": {},
   "outputs": [],
   "source": [
    "import numpy as np\n",
    "import pandas as pd\n",
    "\n",
    "# for jupyter notebook widgets\n",
    "import ipywidgets as widgets\n",
    "from ipywidgets import interact\n",
    "from ipywidgets import interact_manual"
   ]
  },
  {
   "cell_type": "code",
   "execution_count": null,
   "id": "d360881c-faea-4396-b98d-23eef39a5274",
   "metadata": {},
   "outputs": [],
   "source": [
    "#pip install scikit-surprise\n",
    "from surprise import Dataset, Reader"
   ]
  },
  {
   "cell_type": "code",
   "execution_count": null,
   "id": "1ab0968a-d0cf-4a07-9418-6ed45dc91efa",
   "metadata": {},
   "outputs": [],
   "source": [
    "movies = pd.read_csv('movies.csv')\n",
    "ratings = pd.read_csv('ratings.csv')"
   ]
  },
  {
   "cell_type": "code",
   "execution_count": null,
   "id": "ff1743b8-3a7a-4fca-a596-943920d57851",
   "metadata": {},
   "outputs": [],
   "source": [
    "movies.shape, ratings.shape"
   ]
  },
  {
   "cell_type": "code",
   "execution_count": null,
   "id": "2573f546-273c-4c5d-93c8-fa4826a08ee4",
   "metadata": {},
   "outputs": [],
   "source": [
    "movies.head(5)"
   ]
  },
  {
   "cell_type": "code",
   "execution_count": null,
   "id": "119a244c-4947-4891-89e2-700ebbb1aee5",
   "metadata": {},
   "outputs": [],
   "source": [
    "ata = Dataset.load_from_df(ratings[['userId', 'movieId', 'rating']], reader=Reader(rating_scale = (1,5)))"
   ]
  },
  {
   "cell_type": "code",
   "execution_count": null,
   "id": "92461c96-1541-4f2e-98db-001a1ad6933b",
   "metadata": {},
   "outputs": [],
   "source": [
    "\n",
    "# Lets Build the Training Dataset\n",
    "train = data.build_full_trainset()"
   ]
  },
  {
   "cell_type": "code",
   "execution_count": null,
   "id": "4a8f09cb-9795-47d3-b52e-1a0245bb9377",
   "metadata": {},
   "outputs": [],
   "source": [
    "from surprise import KNNWithMeans\n",
    "# Item-Item collaborative\n",
    "my_sim_option = {'name':'pearson', 'user_based':True}\n",
    "# KNN model as backend \n",
    "algo = KNNWithMeans(k = 15, min_k = 5, sim_options = my_sim_option, verbose = True)"
   ]
  },
  {
   "cell_type": "code",
   "execution_count": null,
   "id": "3fad8560-6a57-4bec-abe6-84340e1d0d19",
   "metadata": {},
   "outputs": [],
   "source": [
    "# lets check the Accuracy of the Model\n",
    "from surprise.model_selection import  cross_validate\n",
    "\n",
    "# Cross validation \n",
    "results = cross_validate(algo = algo, \n",
    "                         data = data, \n",
    "                         measures=['RMSE'], \n",
    "                         cv = 5, \n",
    "                         return_train_measures=True)\n",
    "    \n",
    "print(results['test_rmse'].mean())"
   ]
  },
  {
   "cell_type": "code",
   "execution_count": null,
   "id": "66af8494-c377-4a9e-be96-f5cfbe5f28f5",
   "metadata": {},
   "outputs": [],
   "source": [
    "algo.fit(train)"
   ]
  },
  {
   "cell_type": "code",
   "execution_count": null,
   "id": "34c34feb-8e68-40b9-9dd7-2548046b4765",
   "metadata": {},
   "outputs": [],
   "source": [
    "# Create a Dictionary to Map the Movie Id and Movie Names\n",
    "movie_id_to_title_map = {}\n",
    "for m_id , title in zip(movies['movieId'].values , movies['title'].values):\n",
    "    movie_id_to_title_map[str(m_id)] = title\n",
    "{k: movie_id_to_title_map[f'{k}'] for k in range(1, 10)}"
   ]
  },
  {
   "cell_type": "code",
   "execution_count": null,
   "id": "890370b5-858b-4a00-b37b-48fd5b09c780",
   "metadata": {},
   "outputs": [],
   "source": [
    "# how much the user id - 1 would rate item id 31 ?\n",
    "val = algo.predict(uid = '1', iid = '31')\n",
    "print(movie_id_to_title_map[val[1]] , val[3])"
   ]
  },
  {
   "cell_type": "code",
   "execution_count": null,
   "id": "279bfde4-810d-443b-b23c-9b8e6290c013",
   "metadata": {},
   "outputs": [],
   "source": [
    "\n",
    "from collections import defaultdict\n",
    "def get_top_n(predictions, n = 10):\n",
    "    top_n = defaultdict(list)\n",
    "    for uid, iid, true_r, est, _ in predictions:\n",
    "        top_n[uid].append((iid, est))\n",
    "\n",
    "    for uid, user_ratings in top_n.items():\n",
    "        user_ratings.sort(key=lambda x: x[1], reverse=True)\n",
    "        top_n[uid] = user_ratings[:n]\n",
    "    return top_n"
   ]
  },
  {
   "cell_type": "code",
   "execution_count": null,
   "id": "3ccf979a-8c90-48bb-9b62-cf5795fa92e5",
   "metadata": {},
   "outputs": [],
   "source": [
    "# Build an Iterable Testset, Direct predictions on Train would throw errors \n",
    "testdata = train.build_anti_testset()\n",
    "predictions = algo.test(testdata)\n",
    "top_n = get_top_n(predictions, n = 10)"
   ]
  },
  {
   "cell_type": "code",
   "execution_count": null,
   "id": "f9ce7e64-712d-41d3-b6a4-985ac2939917",
   "metadata": {},
   "outputs": [],
   "source": [
    "predictions[0]"
   ]
  },
  {
   "cell_type": "code",
   "execution_count": null,
   "id": "0906b5ae-36a9-4a89-b662-a930fb6d7575",
   "metadata": {},
   "outputs": [],
   "source": [
    "# top 10 recommendation for user 1\n",
    "{(movie_id_to_title_map[x], r ) for (x, r) in top_n['2']}"
   ]
  },
  {
   "cell_type": "code",
   "execution_count": null,
   "id": "5062cecd-2136-40bb-a33b-2703a66aea17",
   "metadata": {},
   "outputs": [],
   "source": []
  },
  {
   "cell_type": "code",
   "execution_count": null,
   "id": "39c8d7aa-5f77-493d-9620-cc8d428d022f",
   "metadata": {},
   "outputs": [],
   "source": []
  }
 ],
 "metadata": {
  "kernelspec": {
   "display_name": "Python 3 (ipykernel)",
   "language": "python",
   "name": "python3"
  },
  "language_info": {
   "codemirror_mode": {
    "name": "ipython",
    "version": 3
   },
   "file_extension": ".py",
   "mimetype": "text/x-python",
   "name": "python",
   "nbconvert_exporter": "python",
   "pygments_lexer": "ipython3",
   "version": "3.10.4"
  }
 },
 "nbformat": 4,
 "nbformat_minor": 5
}
