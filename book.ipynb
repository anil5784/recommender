{
 "cells": [
  {
   "cell_type": "code",
   "execution_count": 1,
   "id": "6da89720-5b46-45aa-b434-58efa91fe4cc",
   "metadata": {},
   "outputs": [],
   "source": [
    "# Load libraries"
   ]
  },
  {
   "cell_type": "code",
   "execution_count": 2,
   "id": "d7121dc1-fde7-4b4c-9bc1-cbc2c255ac9e",
   "metadata": {},
   "outputs": [
    {
     "ename": "ModuleNotFoundError",
     "evalue": "No module named 'ipywidgets'",
     "output_type": "error",
     "traceback": [
      "\u001b[1;31m---------------------------------------------------------------------------\u001b[0m",
      "\u001b[1;31mModuleNotFoundError\u001b[0m                       Traceback (most recent call last)",
      "Input \u001b[1;32mIn [2]\u001b[0m, in \u001b[0;36m<cell line: 2>\u001b[1;34m()\u001b[0m\n\u001b[0;32m      1\u001b[0m \u001b[38;5;28;01mimport\u001b[39;00m \u001b[38;5;21;01mpandas\u001b[39;00m \u001b[38;5;28;01mas\u001b[39;00m \u001b[38;5;21;01mpd\u001b[39;00m\n\u001b[1;32m----> 2\u001b[0m \u001b[38;5;28;01mimport\u001b[39;00m \u001b[38;5;21;01mipywidgets\u001b[39;00m\n\u001b[0;32m      3\u001b[0m \u001b[38;5;28;01mfrom\u001b[39;00m \u001b[38;5;21;01mipywidgets\u001b[39;00m \u001b[38;5;28;01mimport\u001b[39;00m interact\n\u001b[0;32m      4\u001b[0m \u001b[38;5;28;01mfrom\u001b[39;00m \u001b[38;5;21;01mipywidgets\u001b[39;00m \u001b[38;5;28;01mimport\u001b[39;00m interact_manual\n",
      "\u001b[1;31mModuleNotFoundError\u001b[0m: No module named 'ipywidgets'"
     ]
    }
   ],
   "source": [
    "import pandas as pd\n",
    "import ipywidgets\n",
    "from ipywidgets import interact\n",
    "from ipywidgets import interact_manual"
   ]
  },
  {
   "cell_type": "code",
   "execution_count": null,
   "id": "bc40ddee-ad72-4e6d-9a89-5c346f08be56",
   "metadata": {},
   "outputs": [],
   "source": [
    "df=pd.read_csv(\"sample_data/books.csv\")\n",
    "df.head(5)"
   ]
  },
  {
   "cell_type": "code",
   "execution_count": null,
   "id": "fb1c09f8-cdbb-4fb3-bef2-2b4035402005",
   "metadata": {},
   "outputs": [],
   "source": [
    "df.info()"
   ]
  },
  {
   "cell_type": "code",
   "execution_count": null,
   "id": "063f0f05-7e02-402f-994f-6ac1dc9af668",
   "metadata": {},
   "outputs": [],
   "source": [
    "df['language_code'].nunique()"
   ]
  },
  {
   "cell_type": "code",
   "execution_count": null,
   "id": "e93174e2-ee55-44d1-8184-f85a74d2ee24",
   "metadata": {},
   "outputs": [],
   "source": [
    "@interact\n",
    "def book_by_author(x = list(df['authors'].value_counts().index)):\n",
    "  df_s = df[df['authors']==x][['title', 'average_rating']].sort_values('average_rating', ascending=False)\n",
    "  return df_s.head(5)"
   ]
  },
  {
   "cell_type": "code",
   "execution_count": null,
   "id": "e5335f2d-3c00-4849-9ad3-0e8cc3e26c64",
   "metadata": {},
   "outputs": [],
   "source": [
    "# converting average rating column into categorical column\n",
    "def num_into_obj(x):\n",
    "    if x>=0 and x<=1:\n",
    "        return 'between 0 and 1'\n",
    "    elif x>1 and x<=2:\n",
    "        return 'between 1 and 2'\n",
    "    elif x>2 and x<=3:\n",
    "        return 'between 2 and 3'\n",
    "    elif x>3 and x<=4:\n",
    "        return 'between 3 and 4'\n",
    "    else:\n",
    "        return 'between 4 and 5'\n",
    "df['rating_obj'] = df['average_rating'].apply(num_into_obj)"
   ]
  },
  {
   "cell_type": "code",
   "execution_count": null,
   "id": "2bfcf0c4-9cad-4506-97e2-7d51850790d7",
   "metadata": {},
   "outputs": [],
   "source": [
    "rating_df = pd.get_dummies(df['rating_obj'])\n",
    "rating_df.head()"
   ]
  },
  {
   "cell_type": "code",
   "execution_count": null,
   "id": "c3fb3bfe-6023-4774-86f7-93c539277359",
   "metadata": {},
   "outputs": [],
   "source": [
    "language_df = pd.get_dummies(df['language_code'])\n",
    "language_df.head()"
   ]
  },
  {
   "cell_type": "code",
   "execution_count": null,
   "id": "6b3f5ca6-12e6-4c86-9a4a-e54b7830aa83",
   "metadata": {},
   "outputs": [],
   "source": [
    "# concat both the data frames and set the title column as the index \n",
    "features = pd.concat([rating_df, language_df, df['average_rating'], df['ratings_count'], df['title']], axis=1)\n",
    "features.set_index('title', inplace=True)\n",
    "features.head()"
   ]
  },
  {
   "cell_type": "code",
   "execution_count": null,
   "id": "e3f1f45c-80a7-45f0-849a-70113b450fc5",
   "metadata": {},
   "outputs": [],
   "source": [
    "# for scaling the values of the data frame\n",
    "from sklearn.preprocessing import MinMaxScaler\n",
    "min_max_scaler = MinMaxScaler()\n",
    "features_scaled = min_max_scaler.fit_transform(features)"
   ]
  },
  {
   "cell_type": "code",
   "execution_count": null,
   "id": "3ab208cd-bace-478d-b26e-4226c466cfa2",
   "metadata": {},
   "outputs": [],
   "source": [
    "# importing neighbours\n",
    "from sklearn import neighbors"
   ]
  },
  {
   "cell_type": "code",
   "execution_count": null,
   "id": "01db8e16-f464-4bcd-b26e-d73341d0b2c7",
   "metadata": {},
   "outputs": [],
   "source": [
    "# training the model\n",
    "model = neighbors.NearestNeighbors(n_neighbors=6, algorithm='ball_tree', metric='euclidean')\n",
    "model.fit(features_scaled)\n",
    "dist, idlist = model.kneighbors(features_scaled)"
   ]
  },
  {
   "cell_type": "code",
   "execution_count": null,
   "id": "8640beaf-5315-4b50-8b9f-15bd19f8460a",
   "metadata": {},
   "outputs": [],
   "source": [
    "dist[1]"
   ]
  },
  {
   "cell_type": "code",
   "execution_count": null,
   "id": "a11a5ffa-d281-48af-a825-1abe9014ed0e",
   "metadata": {},
   "outputs": [],
   "source": [
    "idlist[1]"
   ]
  },
  {
   "cell_type": "code",
   "execution_count": null,
   "id": "ca0d89c4-ae38-4931-b275-3f7127be6fce",
   "metadata": {},
   "outputs": [],
   "source": [
    "@interact\n",
    "def BookRecommender(book_name = list(df['title'].value_counts().index)):\n",
    "    book_list_name = []\n",
    "    book_id = df[df['title'] == book_name].index\n",
    "    book_id = book_id[0]\n",
    "    for newid in idlist[book_id]:\n",
    "        book_list_name.append(df.loc[newid].title)\n",
    "    return book_list_name"
   ]
  },
  {
   "cell_type": "code",
   "execution_count": null,
   "id": "5e911742-700f-43f0-844d-101d9b43257d",
   "metadata": {},
   "outputs": [],
   "source": [
    "df[df['title']=='King Lear']"
   ]
  }
 ],
 "metadata": {
  "kernelspec": {
   "display_name": "Python 3 (ipykernel)",
   "language": "python",
   "name": "python3"
  },
  "language_info": {
   "codemirror_mode": {
    "name": "ipython",
    "version": 3
   },
   "file_extension": ".py",
   "mimetype": "text/x-python",
   "name": "python",
   "nbconvert_exporter": "python",
   "pygments_lexer": "ipython3",
   "version": "3.10.4"
  }
 },
 "nbformat": 4,
 "nbformat_minor": 5
}
